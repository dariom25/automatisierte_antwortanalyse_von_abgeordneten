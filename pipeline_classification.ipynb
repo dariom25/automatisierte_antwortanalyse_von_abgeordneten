{
 "cells": [
  {
   "cell_type": "code",
   "execution_count": null,
   "metadata": {},
   "outputs": [],
   "source": [
    "import pandas as pd\n",
    "import numpy as np\n",
    "import spacy\n",
    "import re\n",
    "from nltk.corpus import stopwords\n",
    "from sklearn.feature_extraction.text import CountVectorizer\n",
    "import fasttext.util\n",
    "from sklearn.model_selection import train_test_split\n",
    "import seaborn as sns\n",
    "import matplotlib.pyplot as plt\n",
    "from scipy.stats import chi2_contingency"
   ]
  },
  {
   "cell_type": "markdown",
   "metadata": {},
   "source": [
    "# Pipeline für Textklassifikation mit fastText und dem Bag-of-Words"
   ]
  },
  {
   "cell_type": "markdown",
   "metadata": {},
   "source": [
    "## Datenvorbereitung"
   ]
  },
  {
   "cell_type": "code",
   "execution_count": null,
   "metadata": {},
   "outputs": [],
   "source": [
    "# load data\n",
    "sample = pd.read_csv(\"data/labeled_unprocessed_sample_data.csv\", sep=\";\")"
   ]
  },
  {
   "cell_type": "code",
   "execution_count": null,
   "metadata": {},
   "outputs": [],
   "source": [
    "# remove possible missing values and duplicates\n",
    "sample = sample.dropna()\n",
    "sample = sample.drop_duplicates(subset=\"answer\")"
   ]
  },
  {
   "cell_type": "code",
   "execution_count": null,
   "metadata": {},
   "outputs": [],
   "source": [
    "nlp = spacy.load(\"de_core_news_sm\")\n",
    "\n",
    "def text_lemmatization(text):\n",
    "    doc = nlp(text)\n",
    "    lemmas = [token.lemma_ for token in doc if not token.is_punct]\n",
    "    return \" \".join(lemmas)"
   ]
  },
  {
   "cell_type": "code",
   "execution_count": null,
   "metadata": {},
   "outputs": [],
   "source": [
    "def text_preprocessing(text):\n",
    "    # remove links, punctuation, special letters\n",
    "    text = re.sub(r\"[^a-zA-öZÖäÄüÜß]|\\bhttps?://\\S*|&\\w+;|[\\.,]\", \" \", text)\n",
    "    \n",
    "    # replace single characters\n",
    "    text : re.sub(r\" [a-zA-Z] \", \" \", text)\n",
    "    \n",
    "    # remove additional whitespaces\n",
    "    text : re.sub(r\"\\s+\", \" \", text)\n",
    "    \n",
    "    # lemmatize texts\n",
    "    text = text_lemmatization(text)\n",
    "\n",
    "    # lower text\n",
    "    text = text.lower()\n",
    "    \n",
    "    # tokenization of words\n",
    "    text = text.split()\n",
    "    \n",
    "    # remove stopwords\n",
    "    german_stopwords = set(stopwords.words(\"german\"))\n",
    "    text = [w for w in text if w not in german_stopwords]\n",
    "    \n",
    "    # return joined text\n",
    "    return \" \".join(text)"
   ]
  },
  {
   "cell_type": "code",
   "execution_count": null,
   "metadata": {},
   "outputs": [],
   "source": [
    "sample[\"clean_answer\"] = sample[\"answer\"].apply(text_preprocessing)"
   ]
  },
  {
   "cell_type": "code",
   "execution_count": null,
   "metadata": {},
   "outputs": [],
   "source": [
    "# show most frequent words\n",
    "vectorizer = CountVectorizer(\n",
    ")\n",
    "dtm = vectorizer.fit_transform(sample[\"clean_answer\"])\n",
    "\n",
    "frequencies = dtm.sum(axis=0).tolist()[0]\n",
    "\n",
    "df_freq = pd.DataFrame(\n",
    "    dict(frequencies=frequencies,\n",
    "         index=vectorizer.get_feature_names_out()\n",
    "    )\n",
    ")\n",
    "\n",
    "df_freq.sort_values(\"frequencies\", ascending=False).head(n=20)"
   ]
  },
  {
   "cell_type": "code",
   "execution_count": null,
   "metadata": {},
   "outputs": [],
   "source": [
    "# remove stopwords with refined list and after lemmatization to catch \n",
    "def remove_individual_stopwords(text):\n",
    "    individual_stopwords = [\n",
    "        \"geehrt\",\n",
    "        \"frau\",\n",
    "        \"vieler\",\n",
    "        \"dank\",\n",
    "        \"herr\",\n",
    "        \"danke\",\n",
    "        \"anfrage\",\n",
    "        \"frage\",\n",
    "        \"nachricht\",\n",
    "        \"freundlich\",\n",
    "        \"sollen\",\n",
    "        \"müssen\",\n",
    "        \"mehr\",\n",
    "        \"grüße\",\n",
    "        \"daher\",\n",
    "        \"immer\",\n",
    "        \"dafür\",\n",
    "        \"frage\"\n",
    "    ]\n",
    "    text = text.split()\n",
    "    text = [w for w in text if w not in individual_stopwords]\n",
    "    \n",
    "    return \" \".join(text)"
   ]
  },
  {
   "cell_type": "code",
   "execution_count": null,
   "metadata": {},
   "outputs": [],
   "source": [
    "sample[\"clean_answer\"] = sample[\"clean_answer\"].apply(remove_individual_stopwords)"
   ]
  },
  {
   "cell_type": "code",
   "execution_count": null,
   "metadata": {},
   "outputs": [],
   "source": [
    "# prepare data for processing by fasttext\n",
    "sample[\"answer_encoded\"] = sample[\"answer_encoded\"].apply(lambda x: x.replace(\" \", \"_\"))\n",
    "sample[\"answer_encoded\"] = sample[\"answer_encoded\"].apply(lambda x: \"__label__\" + x)\n",
    "sample[\"answer_encoding_combined\"] = sample[\"answer_encoded\"]+ \" \" + sample[\"clean_answer\"]"
   ]
  },
  {
   "cell_type": "code",
   "execution_count": null,
   "metadata": {},
   "outputs": [],
   "source": [
    "# seperate sample data into training, test and validation sets (80/10/10)\n",
    "training_sample, temp_df = train_test_split(sample, test_size=0.2, random_state=42)\n",
    "testing_sample, validation_sample = train_test_split(temp_df, test_size=0.5, random_state=42)"
   ]
  },
  {
   "cell_type": "code",
   "execution_count": null,
   "metadata": {},
   "outputs": [],
   "source": [
    "# export datasets\n",
    "training_sample[\"answer_encoding_combined\"].to_csv(\"data/training_data.csv\", index=False, header=False, sep=\";\")\n",
    "testing_sample[\"answer_encoding_combined\"].to_csv(\"data/testing_data.csv\", index=False, header=False, sep=\";\")\n",
    "validation_sample[\"answer_encoding_combined\"].to_csv(\"data/validation_data.csv\", index=False, header=False, sep=\";\")"
   ]
  },
  {
   "cell_type": "markdown",
   "metadata": {},
   "source": [
    "## Modelltraining mit Word-Embeddings"
   ]
  },
  {
   "cell_type": "markdown",
   "metadata": {},
   "source": [
    "### Ohne optimierte Hyperparamater"
   ]
  },
  {
   "cell_type": "code",
   "execution_count": null,
   "metadata": {},
   "outputs": [],
   "source": [
    "# train model without optimizing the hyperparameter\n",
    "ft_model = fasttext.train_supervised(input=\"data/training_data.csv\")"
   ]
  },
  {
   "cell_type": "code",
   "execution_count": null,
   "metadata": {},
   "outputs": [],
   "source": [
    "# test model\n",
    "ft_model.test(\"data/testing_data.csv\")"
   ]
  },
  {
   "cell_type": "markdown",
   "metadata": {},
   "source": [
    "### Mit optimierten Hyperparametern"
   ]
  },
  {
   "cell_type": "code",
   "execution_count": null,
   "metadata": {},
   "outputs": [],
   "source": [
    "# train model with optimizing the hyperparameter\n",
    "ft_model_optimized = fasttext.train_supervised(\n",
    "    input=\"data/training_data.csv\", \n",
    "    autotuneValidationFile=\"data/validation_data.csv\",\n",
    "    thread=1,\n",
    "    seed=55\n",
    "    )"
   ]
  },
  {
   "cell_type": "code",
   "execution_count": null,
   "metadata": {},
   "outputs": [],
   "source": [
    "# test model\n",
    "ft_model_optimized.test(\"data/testing_data.csv\")"
   ]
  },
  {
   "cell_type": "markdown",
   "metadata": {},
   "source": [
    "#### Testergebnisse für Label \"answer\""
   ]
  },
  {
   "cell_type": "code",
   "execution_count": null,
   "metadata": {},
   "outputs": [],
   "source": [
    "# test model for label \"answer\"\n",
    "answer_test = ft_model_optimized.test_label(\"data/testing_data.csv\")[\"__label__answer\"]"
   ]
  },
  {
   "cell_type": "markdown",
   "metadata": {},
   "source": [
    "#### Testergebnisse für Label \"evasive answer\""
   ]
  },
  {
   "cell_type": "code",
   "execution_count": null,
   "metadata": {},
   "outputs": [],
   "source": [
    "# test model for label \"evasive answer\"\n",
    "evasive_answer_test = ft_model_optimized.test_label(\"data/testing_data.csv\")[\"__label__evasive_answer\"]"
   ]
  },
  {
   "cell_type": "markdown",
   "metadata": {},
   "source": [
    "### Visualisierung von Testergebnissen für die Label"
   ]
  },
  {
   "cell_type": "code",
   "execution_count": null,
   "metadata": {},
   "outputs": [],
   "source": [
    "# create dataframe with values from testing\n",
    "df_testing_results = pd.DataFrame([answer_test, evasive_answer_test])\n",
    "df_testing_results.insert(0, \"label\", [\"answer\", \"evasive answer\"])\n",
    "\n",
    "# change from wide to long dataframe format\n",
    "heatmap_data = df_testing_results.melt(\n",
    "    id_vars=\"label\",\n",
    "    value_vars=[\"precision\", \"recall\"],\n",
    "    var_name=\"Metric\",\n",
    "    value_name=\"Value\"\n",
    ")"
   ]
  },
  {
   "cell_type": "code",
   "execution_count": null,
   "metadata": {},
   "outputs": [],
   "source": [
    "# create confusion matrix for model results\n",
    "sns.set_theme()\n",
    "ax = sns.heatmap(\n",
    "   data=heatmap_data.pivot(index=\"label\", columns=\"Metric\", values=\"Value\"),\n",
    "   annot=True,\n",
    "   linewidths=0.5,\n",
    "   vmin=0,\n",
    "   vmax=1,\n",
    "   cmap=\"coolwarm\"\n",
    ")\n",
    "ax.set(\n",
    "    xlabel=\"Metrik\",\n",
    "    ylabel=\"Label\",\n",
    "    title=\"Konfusionsmatrix mit Ergebnissen der Modelltests\"\n",
    ")"
   ]
  },
  {
   "cell_type": "code",
   "execution_count": null,
   "metadata": {},
   "outputs": [],
   "source": [
    "# save trained model\n",
    "ft_model_optimized.save_model(\"model/classification.bin\")"
   ]
  },
  {
   "cell_type": "markdown",
   "metadata": {},
   "source": [
    "## Modellanwendung"
   ]
  },
  {
   "cell_type": "markdown",
   "metadata": {},
   "source": [
    "### Laden und Vorverarbeiten der Daten"
   ]
  },
  {
   "cell_type": "code",
   "execution_count": null,
   "metadata": {},
   "outputs": [],
   "source": [
    "# load unprocessed data without sample\n",
    "data = pd.read_csv(\"data/data_without_sample.csv\", sep=\";\")"
   ]
  },
  {
   "cell_type": "code",
   "execution_count": null,
   "metadata": {},
   "outputs": [],
   "source": [
    "# drop na and duplicates in answers\n",
    "data = data.drop_duplicates(subset=[\"answer\", \"question_text\"])\n",
    "data = data.dropna(subset=[\"answer\"])"
   ]
  },
  {
   "cell_type": "code",
   "execution_count": null,
   "metadata": {},
   "outputs": [],
   "source": [
    "# apply text cleaning\n",
    "data[\"clean_answer\"] = data[\"answer\"].apply(text_preprocessing)\n",
    "data[\"clean_answer\"] = data[\"clean_answer\"].apply(remove_individual_stopwords)\n"
   ]
  },
  {
   "cell_type": "markdown",
   "metadata": {},
   "source": [
    "### Automatisches Labeln der Antworten"
   ]
  },
  {
   "cell_type": "code",
   "execution_count": null,
   "metadata": {},
   "outputs": [],
   "source": [
    "# extract answers from colums\n",
    "text = data[\"clean_answer\"].tolist()"
   ]
  },
  {
   "cell_type": "code",
   "execution_count": null,
   "metadata": {},
   "outputs": [],
   "source": [
    "# predict label and probability of label for each answer\n",
    "labels, probalities = ft_model_optimized.predict(text, k=1)"
   ]
  },
  {
   "cell_type": "markdown",
   "metadata": {},
   "source": [
    "### Nachbearbeiten der Labels und Probabilities für bessere Lesbarkeit"
   ]
  },
  {
   "cell_type": "code",
   "execution_count": null,
   "metadata": {},
   "outputs": [],
   "source": [
    "def flatten_list(list):\n",
    "    flattened_list = []\n",
    "    for item in list:\n",
    "        for i in item:\n",
    "            flattened_list.append(i)\n",
    "    return flattened_list\n",
    "\n",
    "flattened_labels = flatten_list(labels)\n",
    "flattened_probabilities = flatten_list(probalities)"
   ]
  },
  {
   "cell_type": "code",
   "execution_count": null,
   "metadata": {},
   "outputs": [],
   "source": [
    "# append labels and probabilities to dataframe\n",
    "data[\"label\"] = flattened_labels\n",
    "data[\"probability\"] = flattened_probabilities"
   ]
  },
  {
   "cell_type": "code",
   "execution_count": null,
   "metadata": {},
   "outputs": [],
   "source": [
    "data[\"label\"] = data[\"label\"].apply(lambda x: x.replace(\"__label__\", \"\"))"
   ]
  },
  {
   "cell_type": "markdown",
   "metadata": {},
   "source": [
    "## Analyse der vergebenen Labels"
   ]
  },
  {
   "cell_type": "markdown",
   "metadata": {},
   "source": [
    "### Deskriptive Auswertung Wahrscheinlichkeit der Labels korrekt zugeordnet zu werden"
   ]
  },
  {
   "cell_type": "code",
   "execution_count": null,
   "metadata": {},
   "outputs": [],
   "source": [
    "# mean, median and std of the labels probability to be correct\n",
    "df_labels = data.groupby(\"label\")\n",
    "df_labels.agg({\"probability\" : [\"mean\", \"median\", \"std\"]})"
   ]
  },
  {
   "cell_type": "code",
   "execution_count": null,
   "metadata": {},
   "outputs": [],
   "source": [
    "# summarize topics to a smaller number\n",
    "topics_mapped = {\n",
    "    \"Baden-Württemberg 2006 - 2011\": \"Wahlen\",\n",
    "    \"Baden-Württemberg 2011 - 2016\": \"Wahlen\",\n",
    "    \"Baden-Württemberg 2016 - 2021\": \"Wahlen\",\n",
    "    \"Baden-Württemberg Wahl 2006\": \"Wahlen\",\n",
    "    \"Baden-Württemberg Wahl 2011\": \"Wahlen\",\n",
    "    \"Baden-Württemberg Wahl 2016\": \"Wahlen\",\n",
    "    \"Baden-Württemberg Wahl 2021\": \"Wahlen\",\n",
    "    \"Baden-Württemberg\": \"Wahlen\",\n",
    "    \n",
    "    \"Bayern\": \"Wahlen\",\n",
    "    \"Bayern 2008 - 2013\": \"Wahlen\",\n",
    "    \"Bayern 2013 - 2018\": \"Wahlen\",\n",
    "    \"Bayern 2018 - 2023\": \"Wahlen\",\n",
    "    \"Bayern Wahl 2008\": \"Wahlen\",\n",
    "    \"Bayern Wahl 2013\": \"Wahlen\",\n",
    "    \"Bayern Wahl 2018\": \"Wahlen\",\n",
    "    \"Bayern Wahl 2023\": \"Wahlen\",\n",
    "    \n",
    "    \"Berlin\": \"Wahlen\",\n",
    "    \"Berlin 2011 - 2016\": \"Wahlen\",\n",
    "    \"Berlin 2016 - 2021\": \"Wahlen\",\n",
    "    \"Berlin Wahl 2006\": \"Wahlen\",\n",
    "    \"Berlin Wahl 2011\": \"Wahlen\",\n",
    "    \"Berlin Wahl 2016\": \"Wahlen\",\n",
    "    \"Berlin Wahl 2021\": \"Wahlen\",\n",
    "    \"Berlin Wahl 2023\": \"Wahlen\",\n",
    "    \n",
    "    \"Brandenburg\": \"Wahlen\",\n",
    "    \"Brandenburg 2014 - 2019\": \"Wahlen\",\n",
    "    \"Brandenburg Wahl 2009\": \"Wahlen\",\n",
    "    \"Brandenburg Wahl 2014\": \"Wahlen\",\n",
    "    \"Brandenburg Wahl 2019\": \"Wahlen\",\n",
    "    \n",
    "    \"Bremen\": \"Wahlen\",\n",
    "    \"Bremen 2015 - 2019\": \"Wahlen\",\n",
    "    \"Bremen 2019 - 2023\": \"Wahlen\",\n",
    "    \"Bremen Wahl 2007\": \"Wahlen\",\n",
    "    \"Bremen Wahl 2011\": \"Wahlen\",\n",
    "    \"Bremen Wahl 2015\": \"Wahlen\",\n",
    "    \"Bremen Wahl 2019\": \"Wahlen\",\n",
    "    \"Bremen Wahl 2023\": \"Wahlen\",\n",
    "    \n",
    "    \"Bundestag\": \"Wahlen\",\n",
    "    \"Bundestag 2005 - 2009\": \"Wahlen\",\n",
    "    \"Bundestag 2009 - 2013\": \"Wahlen\",\n",
    "    \"Bundestag 2013 - 2017\": \"Wahlen\",\n",
    "    \"Bundestag 2017 - 2021\": \"Wahlen\",\n",
    "    \"Bundestag Wahl 2005\": \"Wahlen\",\n",
    "    \"Bundestag Wahl 2009\": \"Wahlen\",\n",
    "    \"Bundestag Wahl 2013\": \"Wahlen\",\n",
    "    \"Bundestag Wahl 2017\": \"Wahlen\",\n",
    "    \"Bundestag Wahl 2021\": \"Wahlen\",\n",
    "    \n",
    "    \"EU-Parlament\": \"Wahlen\",\n",
    "    \"EU-Parlament 2004 - 2009\": \"Wahlen\",\n",
    "    \"EU-Parlament 2009 - 2014\": \"Wahlen\",\n",
    "    \"EU-Parlament 2014 - 2019\": \"Wahlen\",\n",
    "    \"EU-Parlament 2019 - 2024\": \"Wahlen\",\n",
    "    \"EU-Parlament Wahl 2004\": \"Wahlen\",\n",
    "    \"EU-Parlament Wahl 2009\": \"Wahlen\",\n",
    "    \"EU-Parlament Wahl 2014\": \"Wahlen\",\n",
    "    \"EU-Parlament Wahl 2019\": \"Wahlen\",\n",
    "    \"EU-Parlament Wahl 2024\": \"Wahlen\",\n",
    "    \n",
    "    \"Hamburg\": \"Wahlen\",\n",
    "    \"Hamburg 2004 - 2008\": \"Wahlen\",\n",
    "    \"Hamburg 2008 - 2011\": \"Wahlen\",\n",
    "    \"Hamburg 2011 - 2015\": \"Wahlen\",\n",
    "    \"Hamburg 2015 - 2020\": \"Wahlen\",\n",
    "    \"Hamburg Wahl 2004\": \"Wahlen\",\n",
    "    \"Hamburg Wahl 2008\": \"Wahlen\",\n",
    "    \"Hamburg Wahl 2011\": \"Wahlen\",\n",
    "    \"Hamburg Wahl 2015\": \"Wahlen\",\n",
    "    \"Hamburg Wahl 2020\": \"Wahlen\",\n",
    "    \n",
    "    \"Hessen\": \"Wahlen\",\n",
    "    \"Hessen 2018 - 2024\": \"Wahlen\",\n",
    "    \"Hessen Wahl 2018\": \"Wahlen\",\n",
    "    \"Hessen Wahl 2023\": \"Wahlen\",\n",
    "    \n",
    "    \"Mecklenburg-Vorpommern\": \"Wahlen\",\n",
    "    \"Mecklenburg-Vorpommern 2016 - 2021\": \"Wahlen\",\n",
    "    \"Mecklenburg-Vorpommern Wahl 2006\": \"Wahlen\",\n",
    "    \"Mecklenburg-Vorpommern Wahl 2011\": \"Wahlen\",\n",
    "    \"Mecklenburg-Vorpommern Wahl 2016\": \"Wahlen\",\n",
    "    \"Mecklenburg-Vorpommern Wahl 2021\": \"Wahlen\",\n",
    "    \n",
    "    \"Niedersachsen\": \"Wahlen\",\n",
    "    \"Niedersachsen 2008 - 2013\": \"Wahlen\",\n",
    "    \"Niedersachsen 2013 - 2017\": \"Wahlen\",\n",
    "    \"Niedersachsen 2017 - 2022\": \"Wahlen\",\n",
    "    \"Niedersachsen Wahl 2008\": \"Wahlen\",\n",
    "    \"Niedersachsen Wahl 2013\": \"Wahlen\",\n",
    "    \"Niedersachsen Wahl 2017\": \"Wahlen\",\n",
    "    \"Niedersachsen Wahl 2022\": \"Wahlen\",\n",
    "    \n",
    "    \"Nordrhein-Westfalen\": \"Wahlen\",\n",
    "    \"Nordrhein-Westfalen 2010 - 2012\": \"Wahlen\",\n",
    "    \"Nordrhein-Westfalen 2012 - 2017\": \"Wahlen\",\n",
    "    \"Nordrhein-Westfalen 2017 - 2022\": \"Wahlen\",\n",
    "    \"Nordrhein-Westfalen Wahl 2010\": \"Wahlen\",\n",
    "    \"Nordrhein-Westfalen Wahl 2012\": \"Wahlen\",\n",
    "    \"Nordrhein-Westfalen Wahl 2017\": \"Wahlen\",\n",
    "    \"Nordrhein-Westfalen Wahl 2022\": \"Wahlen\",\n",
    "    \n",
    "    \"Rheinland-Pfalz\": \"Wahlen\",\n",
    "    \"Rheinland-Pfalz 2011 - 2016\": \"Wahlen\",\n",
    "    \"Rheinland-Pfalz 2016 - 2021\": \"Wahlen\",\n",
    "    \"Rheinland-Pfalz Wahl 2006\": \"Wahlen\",\n",
    "    \"Rheinland-Pfalz Wahl 2011\": \"Wahlen\",\n",
    "    \"Rheinland-Pfalz Wahl 2016\": \"Wahlen\",\n",
    "    \"Rheinland-Pfalz Wahl 2021\": \"Wahlen\",\n",
    "    \n",
    "    \"Saarland\": \"Wahlen\",\n",
    "    \"Saarland 2017 - 2022\": \"Wahlen\",\n",
    "    \"Saarland Wahl 2009\": \"Wahlen\",\n",
    "    \"Saarland Wahl 2012\": \"Wahlen\",\n",
    "    \n",
    "    \"Sachsen\": \"Wahlen\",\n",
    "    \"Sachsen 2009 - 2014\": \"Wahlen\",\n",
    "    \"Sachsen 2014 - 2019\": \"Wahlen\",\n",
    "    \"Sachsen 2019 - 2024\": \"Wahlen\",\n",
    "    \"Sachsen Wahl 2009\": \"Wahlen\",\n",
    "    \"Sachsen Wahl 2014\": \"Wahlen\",\n",
    "    \"Sachsen Wahl 2019\": \"Wahlen\",\n",
    "    \n",
    "    \"Sachsen-Anhalt\": \"Wahlen\",\n",
    "    \"Sachsen-Anhalt 2016 - 2021\": \"Wahlen\",\n",
    "    \"Sachsen-Anhalt Wahl 2011\": \"Wahlen\",\n",
    "    \"Sachsen-Anhalt Wahl 2006\": \"Wahlen\",\n",
    "    \"Sachsen-Anhalt Wahl 2021\": \"Wahlen\",\n",
    "    \n",
    "    \"Schleswig-Holstein\": \"Wahlen\",\n",
    "    \"Schleswig-Holstein 2009 - 2012\": \"Wahlen\",\n",
    "    \"Schleswig-Holstein 2012 - 2017\": \"Wahlen\",\n",
    "    \"Schleswig-Holstein 2017 - 2022\": \"Wahlen\",\n",
    "    \"Schleswig-Holstein Wahl 2009\": \"Wahlen\",\n",
    "    \"Schleswig-Holstein Wahl 2012\": \"Wahlen\",\n",
    "    \"Schleswig-Holstein Wahl 2017\": \"Wahlen\",\n",
    "    \"Schleswig-Holstein Wahl 2022\": \"Wahlen\",\n",
    "    \n",
    "    \"Thüringen\": \"Wahlen\",\n",
    "    \"Thüringen 2014 - 2019\": \"Wahlen\",\n",
    "    \"Thüringen 2019 - 2024\": \"Wahlen\",\n",
    "    \"Thüringen Wahl 2009\": \"Wahlen\",\n",
    "    \"Thüringen Wahl 2014\": \"Wahlen\",\n",
    "    \"Thüringen Wahl 2019\": \"Wahlen\",\n",
    "    \n",
    "    \"Außenpolitik und internationale Beziehungen\": \"Außenpolitische Themen\",\n",
    "    \"Außenwirtschaft\": \"Außenpolitische Themen\",\n",
    "    \"Entwicklungspolitik\": \"Außenpolitische Themen\",\n",
    "    \"Europapolitik und Europäische Union\": \"Außenpolitische Themen\",\n",
    "    \"Humanitäre Hilfe\": \"Außenpolitische Themen\",\n",
    "    \n",
    "    \"Deutsche Einheit / Innerdeutsche Beziehungen (bis 1990)\": \"Inneres und Sicherheit\",\n",
    "    \"Innere Angelegenheiten\": \"Inneres und Sicherheit\",\n",
    "    \"Innere Sicherheit\": \"Inneres und Sicherheit\",\n",
    "    \"Recht\": \"Inneres und Sicherheit\",\n",
    "    \"Raumordnung, Bau- und Wohnungswesen\": \"Inneres und Sicherheit\",\n",
    "    \"Staat und Verwaltung\": \"Inneres und Sicherheit\",\n",
    "    \"Verteidigung\": \"Inneres und Sicherheit\",\n",
    "    \n",
    "    \"Digitale Agenda\": \"Digitales\",\n",
    "    \"Inneres und Sicherheit\": \"Digitales\",\n",
    "    \"Technologiefolgenabschätzung\": \"Digitales\",\n",
    "    \"Wissenschaft, Forschung und Technologie\": \"Digitales\",\n",
    "    \"Medien\": \"Digitales\",\n",
    "    \"digitale Infrastruktur\": \"Digitales\",\n",
    "    \"Medien, Kommunikation und Informationstechnik\": \"Digitales\",\n",
    "    \n",
    "    \"Bildung und Erziehung\": \"Bildung und Forschung\",\n",
    "    \"Forschung\": \"Bildung und Forschung\",\n",
    "    \n",
    "    \"Umwelt\": \"Energie und Umwelt\",\n",
    "    \"Energie\": \"Energie und Umwelt\",\n",
    "    \"Reaktorsicherheit\": \"Energie und Umwelt\",\n",
    "    \"Klima\": \"Energie und Umwelt\",\n",
    "    \"Naturschutz\": \"Energie und Umwelt\",\n",
    "    \"Verkehr\": \"Energie und Umwelt\",\n",
    "    \n",
    "    \"Finanzen\": \"Finanzen und Wirtschaft\",\n",
    "    \"Öffentliche Finanzen, Steuern und Abgaben\": \"Finanzen und Wirtschaft\",\n",
    "    \"Haushalt\": \"Finanzen und Wirtschaft\",\n",
    "    \"Wirtschaft\": \"Finanzen und Wirtschaft\",\n",
    "    \n",
    "    \"Immunität\": \"Politik und Parteien\",\n",
    "    \"Politisches Leben, Parteien\": \"Politik und Parteien\",\n",
    "    \"Lobbyismus & Transparenz\": \"Politik und Parteien\",\n",
    "    \"Geschäftsordnung\": \"Politik und Parteien\",\n",
    "    \"Petitionen\": \"Politik und Parteien\",\n",
    "    \"Gesellschaftspolitik, soziale Gruppen\": \"Politik und Parteien\",\n",
    "    \n",
    "    \"Gesundheit\": \"Gesundheit und Ernährung\",\n",
    "    \"Landwirtschaft und Ernährung\": \"Gesundheit und Ernährung\",\n",
    "    \"Verbraucherschutz\": \"Gesundheit und Ernährung\",\n",
    "    \n",
    "    \"Soziale Sicherung\": \"Arbeit und Beschäftigung\",\n",
    "    \"Arbeit und Beschäftigung\": \"Arbeit und Beschäftigung\",\n",
    "    \n",
    "    \"Sport\": \"Sport, Kultur und Tourismus\",\n",
    "    \"Sport, Freizeit und Tourismus\": \"Sport, Kultur und Tourismus\",\n",
    "    \"Kultur\": \"Sport, Kultur und Tourismus\",\n",
    "    \"Tourismus\": \"Sport, Kultur und Tourismus\",\n",
    "    \n",
    "    \"Wahlen\": \"Wahlen\",\n",
    "    \"Wahlprüfung\": \"Wahlen\",\n",
    "    \n",
    "    \"Familie\": \"Frauen, Jugend, Familie\",\n",
    "    \"Frauen\": \"Frauen, Jugend, Familie\",\n",
    "    \"Senioren\": \"Frauen, Jugend, Familie\",\n",
    "    \"Jugend\": \"Frauen, Jugend, Familie\",\n",
    "    \n",
    "    \"Migration und Aufenthaltsrecht\": \"Migration und Aufenthaltsrecht\",\n",
    "    \"Menschenrechte\": \"Migration und Aufenthaltsrecht\"\n",
    "}\n",
    "\n",
    "data[\"mapped_topic\"] = data[\"topic\"].map(topics_mapped)"
   ]
  },
  {
   "cell_type": "code",
   "execution_count": null,
   "metadata": {},
   "outputs": [],
   "source": [
    "data.to_csv(\"data/labeled_data_without_sample.csv\")"
   ]
  },
  {
   "cell_type": "code",
   "execution_count": null,
   "metadata": {},
   "outputs": [],
   "source": [
    "# mean, median and std of the labels probability to be correct in regard to the topic of the question\n",
    "df_labels_topics = data.groupby([\"label\", \"mapped_topic\"])\n",
    "df_probality_topics_aggr = df_labels_topics.agg({\"probability\" : [\"mean\", \"median\", \"std\"]})\n",
    "df_probality_topics_aggr"
   ]
  },
  {
   "cell_type": "markdown",
   "metadata": {},
   "source": [
    "### Visualisierung der Verteilung der Labels und Topics"
   ]
  },
  {
   "cell_type": "code",
   "execution_count": null,
   "metadata": {},
   "outputs": [],
   "source": [
    "# create plot\n",
    "sns.set_theme()\n",
    "ax = sns.countplot(\n",
    "    data=data,\n",
    "    x=\"label\"\n",
    ")\n",
    "\n",
    "# add value-label over bar\n",
    "for i in ax.containers:\n",
    "    ax.bar_label(i)\n",
    "\n",
    "# add text to axis\n",
    "plt.xlabel(\"Label\")\n",
    "plt.ylabel(\"Häufigkeit\")\n",
    "plt.title(\"Häufigkeit der Labels 'answer' und 'evasive answer'\")\n",
    "\n",
    "plt.show()\n"
   ]
  },
  {
   "cell_type": "code",
   "execution_count": null,
   "metadata": {},
   "outputs": [],
   "source": [
    "df_data_perc = pd.DataFrame({\"total\" : [data[\"answer\"].count()]})\n",
    "df_data_perc[\"answer\"] = len(data[data[\"label\"] == \"answer\"])\n",
    "df_data_perc[\"evasive_answer\"] = len(data[data[\"label\"] == \"evasive_answer\"])\n",
    "df_data_perc[\"total_perc\"] = 1\n",
    "df_data_perc[\"answer_perc\"] = df_data_perc[\"answer\"]/df_data_perc[\"total\"]\n",
    "df_data_perc[\"evasive_answer_perc\"] = df_data_perc[\"evasive_answer\"]/df_data_perc[\"total\"]\n",
    "\n",
    "\n",
    "sns.set_theme()\n",
    "plt.figure(figsize=(16,9))\n",
    "ax = sns.barplot(\n",
    "    data=df_data_perc[[\"answer_perc\", \"evasive_answer_perc\"]].round(decimals=3)\n",
    ")\n",
    "\n",
    "for i in ax.containers:\n",
    "    ax.bar_label(i)\n",
    "\n",
    "plt.xlabel(\"Labels\")\n",
    "plt.ylabel(\"Anteil\")\n",
    "plt.title(\"Anteilsverteilung der Label nach Antwortart\")\n",
    "\n",
    "plt.ylim(0,1)"
   ]
  },
  {
   "cell_type": "code",
   "execution_count": null,
   "metadata": {},
   "outputs": [],
   "source": [
    "contingency_table = pd.crosstab(data[\"mapped_topic\"], data[\"label\"], normalize=\"index\")\n",
    "\n",
    "contingency_table_long = contingency_table.reset_index().melt(id_vars=\"mapped_topic\", var_name=\"label\", value_name=\"proportion\")\n",
    "\n",
    "contingency_table_long_filtered = contingency_table_long[contingency_table_long[\"label\"] == \"evasive_answer\"]\n",
    "\n",
    "contingency_table_long_filtered = contingency_table_long_filtered.sort_values(by=[\"proportion\"])\n",
    "\n",
    "contingency_table_long_filtered[\"proportion\"] = contingency_table_long_filtered[\"proportion\"]*100\n",
    "\n",
    "contingency_table_long_filtered[\"proportion\"] = contingency_table_long_filtered[\"proportion\"].round(decimals=1)\n",
    "\n",
    "sns.set_theme()\n",
    "plt.figure(figsize=(16, 9))\n",
    "ax = sns.barplot(\n",
    "    data=contingency_table_long_filtered,\n",
    "    x=\"mapped_topic\",\n",
    "    #order=contingency_table_long_filtered.sort_values(by=[\"proportion\"]),\n",
    "    y=\"proportion\",\n",
    ")\n",
    "\n",
    "# add value-label over bar\n",
    "for i in ax.containers:\n",
    "    ax.bar_label(i)\n",
    "\n",
    "# add text to axis\n",
    "plt.xlabel(\"Topics\")\n",
    "plt.ylabel(\"Häufigkeit\")\n",
    "plt.title(\"Verteilung der Anteile der Antwort ausweichende Antwort\")\n",
    "\n",
    "# style plot\n",
    "plt.xticks(rotation=45, ha=\"right\")\n",
    "\n",
    "plt.show()"
   ]
  },
  {
   "cell_type": "code",
   "execution_count": null,
   "metadata": {},
   "outputs": [],
   "source": [
    "# create plot \n",
    "sns.set_theme()\n",
    "plt.figure(figsize=(16, 9))\n",
    "ax = sns.countplot(\n",
    "    data=data,\n",
    "    x=\"mapped_topic\",\n",
    "    order=data[\"mapped_topic\"].value_counts().index,\n",
    "    hue=\"label\"\n",
    ")\n",
    "\n",
    "# style legend\n",
    "ax.legend(\n",
    "    labels=[\"Antwort\", \"ausweichende Antwort\"],\n",
    "    title=\"Labels\"\n",
    ")\n",
    "\n",
    "# add value-label over bar\n",
    "for i in ax.containers:\n",
    "    ax.bar_label(i)\n",
    "\n",
    "# add text to axis\n",
    "plt.xlabel(\"Topics\")\n",
    "plt.ylabel(\"Häufigkeit\")\n",
    "plt.title(\"Häufigkeitsverteilung der Topics nach Antwortart\")\n",
    "\n",
    "# style plot\n",
    "plt.xticks(rotation=45, ha=\"right\")\n",
    "\n",
    "plt.show()\n"
   ]
  },
  {
   "cell_type": "code",
   "execution_count": null,
   "metadata": {},
   "outputs": [],
   "source": [
    "# create lineplot for probability\n",
    "sns.set_theme()\n",
    "plt.figure(figsize=(16, 9))\n",
    "ax = sns.lineplot(\n",
    "    x=df_probality_topics_aggr.index.get_level_values(\"mapped_topic\"),\n",
    "    y=df_probality_topics_aggr[(\"probability\", \"mean\")],\n",
    "    hue=df_probality_topics_aggr.index.get_level_values(\"label\"),\n",
    "    marker=\"o\"\n",
    ")\n",
    "\n",
    "# annotate each data point with a value\n",
    "# iterate over each line the in lines of the plot\n",
    "for line in ax.lines:\n",
    "    x_data = line.get_xdata()\n",
    "    y_data = line.get_ydata()\n",
    "    # iterate over zipped lists and adjust positioning and styling\n",
    "    for x, y in zip(x_data, y_data):\n",
    "        ax.text(x, y, f\"{y:.2f}\", ha=\"center\", va=\"bottom\", fontsize=10)\n",
    "\n",
    "# get handles to not overwrite the labels in legend\n",
    "handles, _ = ax.get_legend_handles_labels()\n",
    "# adjust legend\n",
    "ax.legend(\n",
    "    title=\"Antwortart\",\n",
    "    handles=handles,\n",
    "    labels=[\"Antwort\", \"ausweichende Antwort\"]\n",
    ")\n",
    "\n",
    "# add text to axis\n",
    "plt.xlabel(\"Topics\")\n",
    "plt.ylabel(\"Durchschnitt\")\n",
    "plt.title(\"Durchschnittliche Wahrscheinlichkeit für richtiges Label je Topic nach Antwortart\")\n",
    "\n",
    "# style plot\n",
    "plt.xticks(rotation=45, ha=\"right\")\n",
    "plt.yticks(ticks=np.arange(0.5, 1.0, step=0.1))\n",
    "\n",
    "plt.show()"
   ]
  }
 ],
 "metadata": {
  "kernelspec": {
   "display_name": "Python 3",
   "language": "python",
   "name": "python3"
  },
  "language_info": {
   "codemirror_mode": {
    "name": "ipython",
    "version": 3
   },
   "file_extension": ".py",
   "mimetype": "text/x-python",
   "name": "python",
   "nbconvert_exporter": "python",
   "pygments_lexer": "ipython3",
   "version": "3.12.3"
  }
 },
 "nbformat": 4,
 "nbformat_minor": 2
}
