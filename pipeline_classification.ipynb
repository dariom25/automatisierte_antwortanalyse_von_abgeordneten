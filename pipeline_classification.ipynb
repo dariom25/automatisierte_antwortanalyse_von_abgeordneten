{
 "cells": [
  {
   "cell_type": "code",
   "execution_count": 1,
   "metadata": {},
   "outputs": [],
   "source": [
    "import pandas as pd\n",
    "import spacy\n",
    "import re\n",
    "from nltk.corpus import stopwords\n",
    "from sklearn.feature_extraction.text import CountVectorizer\n",
    "import fasttext.util\n",
    "from sklearn.model_selection import train_test_split\n",
    "import seaborn as sns\n",
    "import matplotlib.pyplot as plt"
   ]
  },
  {
   "cell_type": "markdown",
   "metadata": {},
   "source": [
    "# Pipeline für Textklassifikation mit fasttext"
   ]
  },
  {
   "cell_type": "markdown",
   "metadata": {},
   "source": [
    "## Datenvorbereitung"
   ]
  },
  {
   "cell_type": "code",
   "execution_count": 2,
   "metadata": {},
   "outputs": [],
   "source": [
    "# load data\n",
    "sample = pd.read_csv(\"data/labeled_unprocessed_sample_data.csv\", sep=\";\")"
   ]
  },
  {
   "cell_type": "code",
   "execution_count": 3,
   "metadata": {},
   "outputs": [],
   "source": [
    "# remove possible missing values and duplicates\n",
    "sample = sample.dropna()\n",
    "sample = sample.drop_duplicates(subset=\"answer\")"
   ]
  },
  {
   "cell_type": "code",
   "execution_count": 4,
   "metadata": {},
   "outputs": [],
   "source": [
    "nlp = spacy.load(\"de_core_news_sm\")\n",
    "\n",
    "def text_lemmatization(text):\n",
    "    doc = nlp(text)\n",
    "    lemmas = [token.lemma_ for token in doc if not token.is_punct]\n",
    "    return \" \".join(lemmas)"
   ]
  },
  {
   "cell_type": "code",
   "execution_count": 5,
   "metadata": {},
   "outputs": [],
   "source": [
    "def text_preprocessing(text):\n",
    "    # remove links, punctuation, special letters\n",
    "    text = re.sub(r\"[^a-zA-öZÖäÄüÜß]|\\bhttps?://\\S*|&\\w+;|[\\.,]\", \" \", text)\n",
    "    \n",
    "    # replace single characters\n",
    "    text = re.sub(r\" [a-zA-Z] \", \" \", text)\n",
    "    \n",
    "    # remove additional whitespaces\n",
    "    text = re.sub(r\"\\s+\", \" \", text)\n",
    "    \n",
    "    # lemmatize texts\n",
    "    text = text_lemmatization(text)\n",
    "\n",
    "    # lower text\n",
    "    text = text.lower()\n",
    "    \n",
    "    # tokenization of words\n",
    "    text = text.split()\n",
    "    \n",
    "    # remove stopwords\n",
    "    german_stopwords = set(stopwords.words(\"german\"))\n",
    "    text = [w for w in text if w not in german_stopwords]\n",
    "    \n",
    "    # return joined text\n",
    "    return \" \".join(text)"
   ]
  },
  {
   "cell_type": "code",
   "execution_count": 6,
   "metadata": {},
   "outputs": [],
   "source": [
    "sample[\"clean_answer\"] = sample[\"answer\"].apply(text_preprocessing)"
   ]
  },
  {
   "cell_type": "code",
   "execution_count": 7,
   "metadata": {},
   "outputs": [
    {
     "data": {
      "text/html": [
       "<div>\n",
       "<style scoped>\n",
       "    .dataframe tbody tr th:only-of-type {\n",
       "        vertical-align: middle;\n",
       "    }\n",
       "\n",
       "    .dataframe tbody tr th {\n",
       "        vertical-align: top;\n",
       "    }\n",
       "\n",
       "    .dataframe thead th {\n",
       "        text-align: right;\n",
       "    }\n",
       "</style>\n",
       "<table border=\"1\" class=\"dataframe\">\n",
       "  <thead>\n",
       "    <tr style=\"text-align: right;\">\n",
       "      <th></th>\n",
       "      <th>frequencies</th>\n",
       "      <th>index</th>\n",
       "    </tr>\n",
       "  </thead>\n",
       "  <tbody>\n",
       "    <tr>\n",
       "      <th>9221</th>\n",
       "      <td>2012</td>\n",
       "      <td>geehrt</td>\n",
       "    </tr>\n",
       "    <tr>\n",
       "      <th>8766</th>\n",
       "      <td>1718</td>\n",
       "      <td>freundlich</td>\n",
       "    </tr>\n",
       "    <tr>\n",
       "      <th>24838</th>\n",
       "      <td>1712</td>\n",
       "      <td>vieler</td>\n",
       "    </tr>\n",
       "    <tr>\n",
       "      <th>11383</th>\n",
       "      <td>1698</td>\n",
       "      <td>herr</td>\n",
       "    </tr>\n",
       "    <tr>\n",
       "      <th>8594</th>\n",
       "      <td>1579</td>\n",
       "      <td>frage</td>\n",
       "    </tr>\n",
       "    <tr>\n",
       "      <th>4977</th>\n",
       "      <td>1279</td>\n",
       "      <td>dank</td>\n",
       "    </tr>\n",
       "    <tr>\n",
       "      <th>20807</th>\n",
       "      <td>971</td>\n",
       "      <td>sollen</td>\n",
       "    </tr>\n",
       "    <tr>\n",
       "      <th>15637</th>\n",
       "      <td>942</td>\n",
       "      <td>mensch</td>\n",
       "    </tr>\n",
       "    <tr>\n",
       "      <th>9138</th>\n",
       "      <td>900</td>\n",
       "      <td>geben</td>\n",
       "    </tr>\n",
       "    <tr>\n",
       "      <th>10810</th>\n",
       "      <td>898</td>\n",
       "      <td>gut</td>\n",
       "    </tr>\n",
       "    <tr>\n",
       "      <th>12650</th>\n",
       "      <td>894</td>\n",
       "      <td>jahr</td>\n",
       "    </tr>\n",
       "    <tr>\n",
       "      <th>16363</th>\n",
       "      <td>842</td>\n",
       "      <td>müssen</td>\n",
       "    </tr>\n",
       "    <tr>\n",
       "      <th>5287</th>\n",
       "      <td>814</td>\n",
       "      <td>deutschland</td>\n",
       "    </tr>\n",
       "    <tr>\n",
       "      <th>15536</th>\n",
       "      <td>794</td>\n",
       "      <td>mehr</td>\n",
       "    </tr>\n",
       "    <tr>\n",
       "      <th>8645</th>\n",
       "      <td>755</td>\n",
       "      <td>frau</td>\n",
       "    </tr>\n",
       "    <tr>\n",
       "      <th>25599</th>\n",
       "      <td>664</td>\n",
       "      <td>weit</td>\n",
       "    </tr>\n",
       "    <tr>\n",
       "      <th>4465</th>\n",
       "      <td>654</td>\n",
       "      <td>bundestag</td>\n",
       "    </tr>\n",
       "    <tr>\n",
       "      <th>5284</th>\n",
       "      <td>646</td>\n",
       "      <td>deutsch</td>\n",
       "    </tr>\n",
       "    <tr>\n",
       "      <th>4943</th>\n",
       "      <td>582</td>\n",
       "      <td>dafür</td>\n",
       "    </tr>\n",
       "    <tr>\n",
       "      <th>14313</th>\n",
       "      <td>577</td>\n",
       "      <td>land</td>\n",
       "    </tr>\n",
       "  </tbody>\n",
       "</table>\n",
       "</div>"
      ],
      "text/plain": [
       "       frequencies        index\n",
       "9221          2012       geehrt\n",
       "8766          1718   freundlich\n",
       "24838         1712       vieler\n",
       "11383         1698         herr\n",
       "8594          1579        frage\n",
       "4977          1279         dank\n",
       "20807          971       sollen\n",
       "15637          942       mensch\n",
       "9138           900        geben\n",
       "10810          898          gut\n",
       "12650          894         jahr\n",
       "16363          842       müssen\n",
       "5287           814  deutschland\n",
       "15536          794         mehr\n",
       "8645           755         frau\n",
       "25599          664         weit\n",
       "4465           654    bundestag\n",
       "5284           646      deutsch\n",
       "4943           582        dafür\n",
       "14313          577         land"
      ]
     },
     "execution_count": 7,
     "metadata": {},
     "output_type": "execute_result"
    }
   ],
   "source": [
    "# show most frequent words\n",
    "vectorizer = CountVectorizer(\n",
    ")\n",
    "dtm = vectorizer.fit_transform(sample[\"clean_answer\"])\n",
    "\n",
    "frequencies = dtm.sum(axis=0).tolist()[0]\n",
    "\n",
    "df_freq = pd.DataFrame(\n",
    "    dict(frequencies=frequencies,\n",
    "         index=vectorizer.get_feature_names_out()\n",
    "    )\n",
    ")\n",
    "\n",
    "df_freq.sort_values(\"frequencies\", ascending=False).head(n=20)"
   ]
  },
  {
   "cell_type": "code",
   "execution_count": 8,
   "metadata": {},
   "outputs": [],
   "source": [
    "# remove stopwords with refined list and after lemmatization to catch \n",
    "def remove_individual_stopwords(text):\n",
    "    individual_stopwords = [\n",
    "        \"geehrt\",\n",
    "        \"frau\",\n",
    "        \"vieler\",\n",
    "        \"dank\",\n",
    "        \"herr\",\n",
    "        \"danke\",\n",
    "        \"anfrage\",\n",
    "        \"frage\",\n",
    "        \"nachricht\",\n",
    "        \"freundlich\",\n",
    "        \"sollen\",\n",
    "        \"müssen\",\n",
    "        \"mehr\",\n",
    "        \"grüße\",\n",
    "        \"daher\",\n",
    "        \"immer\",\n",
    "        \"dafür\",\n",
    "        \"frage\"\n",
    "    ]\n",
    "    text = text.split()\n",
    "    text = [w for w in text if w not in individual_stopwords]\n",
    "    \n",
    "    return \" \".join(text)"
   ]
  },
  {
   "cell_type": "code",
   "execution_count": 9,
   "metadata": {},
   "outputs": [],
   "source": [
    "sample[\"clean_answer\"] = sample[\"clean_answer\"].apply(remove_individual_stopwords)"
   ]
  },
  {
   "cell_type": "code",
   "execution_count": 10,
   "metadata": {},
   "outputs": [],
   "source": [
    "# prepare data for processing by fasttext\n",
    "sample[\"answer_encoded\"] = sample[\"answer_encoded\"].apply(lambda x: x.replace(\" \", \"_\"))\n",
    "sample[\"answer_encoded\"] = sample[\"answer_encoded\"].apply(lambda x: \"__label__\" + x)\n",
    "sample[\"answer_encoding_combined\"] = sample[\"answer_encoded\"]+ \" \" + sample[\"clean_answer\"]"
   ]
  },
  {
   "cell_type": "code",
   "execution_count": 11,
   "metadata": {},
   "outputs": [],
   "source": [
    "# seperate sample data into training, test and validation sets (80/10/10)\n",
    "training_sample, temp_df = train_test_split(sample, test_size=0.2, random_state=42)\n",
    "testing_sample, validation_sample = train_test_split(temp_df, test_size=0.5, random_state=42)"
   ]
  },
  {
   "cell_type": "code",
   "execution_count": 12,
   "metadata": {},
   "outputs": [],
   "source": [
    "# export datasets\n",
    "training_sample[\"answer_encoding_combined\"].to_csv(\"data/training_data.csv\", index=False, header=False, sep=\";\")\n",
    "testing_sample[\"answer_encoding_combined\"].to_csv(\"data/testing_data.csv\", index=False, header=False, sep=\";\")\n",
    "validation_sample[\"answer_encoding_combined\"].to_csv(\"data/validation_data.csv\", index=False, header=False, sep=\";\")"
   ]
  },
  {
   "cell_type": "markdown",
   "metadata": {},
   "source": [
    "## Modelltraining"
   ]
  },
  {
   "cell_type": "markdown",
   "metadata": {},
   "source": [
    "### Ohne optimierte Hyperparamater"
   ]
  },
  {
   "cell_type": "code",
   "execution_count": 13,
   "metadata": {},
   "outputs": [],
   "source": [
    "# train model without optimizing the hyperparameter\n",
    "ft_model = fasttext.train_supervised(input=\"data/training_data.csv\")"
   ]
  },
  {
   "cell_type": "code",
   "execution_count": 14,
   "metadata": {},
   "outputs": [
    {
     "data": {
      "text/plain": [
       "(228, 0.6535087719298246, 0.6535087719298246)"
      ]
     },
     "execution_count": 14,
     "metadata": {},
     "output_type": "execute_result"
    }
   ],
   "source": [
    "# test model\n",
    "ft_model.test(\"data/testing_data.csv\")"
   ]
  },
  {
   "cell_type": "markdown",
   "metadata": {},
   "source": [
    "### Mit optimierten Hyperparametern"
   ]
  },
  {
   "cell_type": "code",
   "execution_count": 15,
   "metadata": {},
   "outputs": [],
   "source": [
    "# train model with optimizing the hyperparameter\n",
    "ft_model_optimized = fasttext.train_supervised(\n",
    "    input=\"data/training_data.csv\", \n",
    "    autotuneValidationFile=\"data/validation_data.csv\"\n",
    "    )"
   ]
  },
  {
   "cell_type": "code",
   "execution_count": 16,
   "metadata": {},
   "outputs": [
    {
     "data": {
      "text/plain": [
       "(228, 0.6798245614035088, 0.6798245614035088)"
      ]
     },
     "execution_count": 16,
     "metadata": {},
     "output_type": "execute_result"
    }
   ],
   "source": [
    "# test model\n",
    "ft_model_optimized.test(\"data/testing_data.csv\")"
   ]
  },
  {
   "cell_type": "markdown",
   "metadata": {},
   "source": [
    "#### Testergebnisse für Label \"answer\""
   ]
  },
  {
   "cell_type": "code",
   "execution_count": 39,
   "metadata": {},
   "outputs": [],
   "source": [
    "# test model for label \"answer\"\n",
    "answer_test = ft_model_optimized.test_label(\"data/testing_data.csv\")[\"__label__answer\"]"
   ]
  },
  {
   "cell_type": "markdown",
   "metadata": {},
   "source": [
    "#### Testergebnisse für Label \"evasive answer\""
   ]
  },
  {
   "cell_type": "code",
   "execution_count": 40,
   "metadata": {},
   "outputs": [],
   "source": [
    "# test model for label \"evasive answer\"\n",
    "evasive_answer_test = ft_model_optimized.test_label(\"data/testing_data.csv\")[\"__label__evasive_answer\"]"
   ]
  },
  {
   "cell_type": "markdown",
   "metadata": {},
   "source": [
    "### Visualisierung von Testergebnissen für die Label"
   ]
  },
  {
   "cell_type": "code",
   "execution_count": null,
   "metadata": {},
   "outputs": [
    {
     "data": {
      "text/html": [
       "<div>\n",
       "<style scoped>\n",
       "    .dataframe tbody tr th:only-of-type {\n",
       "        vertical-align: middle;\n",
       "    }\n",
       "\n",
       "    .dataframe tbody tr th {\n",
       "        vertical-align: top;\n",
       "    }\n",
       "\n",
       "    .dataframe thead th {\n",
       "        text-align: right;\n",
       "    }\n",
       "</style>\n",
       "<table border=\"1\" class=\"dataframe\">\n",
       "  <thead>\n",
       "    <tr style=\"text-align: right;\">\n",
       "      <th></th>\n",
       "      <th>label</th>\n",
       "      <th>Metric</th>\n",
       "      <th>Value</th>\n",
       "    </tr>\n",
       "  </thead>\n",
       "  <tbody>\n",
       "    <tr>\n",
       "      <th>0</th>\n",
       "      <td>answer</td>\n",
       "      <td>precision</td>\n",
       "      <td>0.680000</td>\n",
       "    </tr>\n",
       "    <tr>\n",
       "      <th>1</th>\n",
       "      <td>evasive answer</td>\n",
       "      <td>precision</td>\n",
       "      <td>0.678571</td>\n",
       "    </tr>\n",
       "    <tr>\n",
       "      <th>2</th>\n",
       "      <td>answer</td>\n",
       "      <td>recall</td>\n",
       "      <td>0.937931</td>\n",
       "    </tr>\n",
       "    <tr>\n",
       "      <th>3</th>\n",
       "      <td>evasive answer</td>\n",
       "      <td>recall</td>\n",
       "      <td>0.228916</td>\n",
       "    </tr>\n",
       "  </tbody>\n",
       "</table>\n",
       "</div>"
      ],
      "text/plain": [
       "            label     Metric     Value\n",
       "0          answer  precision  0.680000\n",
       "1  evasive answer  precision  0.678571\n",
       "2          answer     recall  0.937931\n",
       "3  evasive answer     recall  0.228916"
      ]
     },
     "execution_count": 62,
     "metadata": {},
     "output_type": "execute_result"
    }
   ],
   "source": [
    "# create dataframe with values from testing\n",
    "df_testing_results = pd.DataFrame([answer_test, evasive_answer_test])\n",
    "df_testing_results.insert(0, \"label\", [\"answer\", \"evasive answer\"])\n",
    "\n",
    "# change from wide to long dataframe format\n",
    "heatmap_data = df_testing_results.melt(\n",
    "    id_vars=\"label\",\n",
    "    value_vars=[\"precision\", \"recall\"],\n",
    "    var_name=\"Metric\",\n",
    "    value_name=\"Value\"\n",
    ")"
   ]
  },
  {
   "cell_type": "code",
   "execution_count": 65,
   "metadata": {},
   "outputs": [
    {
     "data": {
      "text/plain": [
       "[Text(0.5, 20.049999999999997, 'Metrik'),\n",
       " Text(47.24999999999999, 0.5, 'Label'),\n",
       " Text(0.5, 1.0, 'Konfusionsmatrix mit Ergebnissen der Modelltests')]"
      ]
     },
     "execution_count": 65,
     "metadata": {},
     "output_type": "execute_result"
    },
    {
     "data": {
      "image/png": "[encoded data removed]",
      "text/plain": [
       "<Figure size 640x480 with 2 Axes>"
      ]
     },
     "metadata": {},
     "output_type": "display_data"
    }
   ],
   "source": [
    "# create confusion matrix for model results\n",
    "sns.set_theme()\n",
    "ax = sns.heatmap(\n",
    "   data=heatmap_data.pivot(index=\"label\", columns=\"Metric\", values=\"Value\"),\n",
    "   annot=True,\n",
    "   linewidths=0.5,\n",
    "   vmin=0,\n",
    "   vmax=1,\n",
    "   cmap=\"coolwarm\"\n",
    ")\n",
    "ax.set(\n",
    "    xlabel=\"Metrik\",\n",
    "    ylabel=\"Label\",\n",
    "    title=\"Konfusionsmatrix mit Ergebnissen der Modelltests\"\n",
    ")"
   ]
  },
  {
   "cell_type": "code",
   "execution_count": 19,
   "metadata": {},
   "outputs": [],
   "source": [
    "# save trained model\n",
    "ft_model_optimized.save_model(\"model/classification.bin\")"
   ]
  },
  {
   "cell_type": "markdown",
   "metadata": {},
   "source": [
    "## Modellanwendung"
   ]
  },
  {
   "cell_type": "markdown",
   "metadata": {},
   "source": [
    "### Laden und Vorverarbeiten der Daten"
   ]
  },
  {
   "cell_type": "code",
   "execution_count": 20,
   "metadata": {},
   "outputs": [],
   "source": [
    "# load unprocessed data without sample\n",
    "data = pd.read_csv(\"data/data_without_sample.csv\", sep=\";\")"
   ]
  },
  {
   "cell_type": "code",
   "execution_count": 21,
   "metadata": {},
   "outputs": [],
   "source": [
    "# drop na and duplicates in answers\n",
    "data = data.drop_duplicates(subset=[\"answer\", \"question_text\"])\n",
    "data = data.dropna(subset=[\"answer\"])"
   ]
  },
  {
   "cell_type": "code",
   "execution_count": 22,
   "metadata": {},
   "outputs": [],
   "source": [
    "# apply text cleaning\n",
    "data[\"clean_answer\"] = data[\"answer\"].apply(text_preprocessing)\n",
    "data[\"clean_answer\"] = data[\"clean_answer\"].apply(remove_individual_stopwords)\n"
   ]
  },
  {
   "cell_type": "markdown",
   "metadata": {},
   "source": [
    "### Automatisches Labeln der Antworten"
   ]
  },
  {
   "cell_type": "code",
   "execution_count": 23,
   "metadata": {},
   "outputs": [],
   "source": [
    "# extract answers from colums\n",
    "text = data[\"clean_answer\"].tolist()"
   ]
  },
  {
   "cell_type": "code",
   "execution_count": 24,
   "metadata": {},
   "outputs": [],
   "source": [
    "# predict label and probability of label for each answer\n",
    "labels, probalities = ft_model_optimized.predict(text, k=1)"
   ]
  },
  {
   "cell_type": "markdown",
   "metadata": {},
   "source": [
    "### Nachbearbeiten der Labels und Probabilities für bessere Lesbarkeit"
   ]
  },
  {
   "cell_type": "code",
   "execution_count": 25,
   "metadata": {},
   "outputs": [],
   "source": [
    "def flatten_list(list):\n",
    "    flattened_list = []\n",
    "    for item in list:\n",
    "        for i in item:\n",
    "            flattened_list.append(i)\n",
    "    return flattened_list\n",
    "\n",
    "flattened_labels = flatten_list(labels)\n",
    "flattened_probabilities = flatten_list(probalities)"
   ]
  },
  {
   "cell_type": "code",
   "execution_count": 26,
   "metadata": {},
   "outputs": [],
   "source": [
    "# append labels and probabilities to dataframe\n",
    "data[\"label\"] = flattened_labels\n",
    "data[\"probability\"] = flattened_probabilities"
   ]
  },
  {
   "cell_type": "code",
   "execution_count": 27,
   "metadata": {},
   "outputs": [],
   "source": [
    "data[\"label\"] = data[\"label\"].apply(lambda x: x.replace(\"__label__\", \"\"))"
   ]
  },
  {
   "cell_type": "markdown",
   "metadata": {},
   "source": [
    "## Analyse der vergebenen Labels"
   ]
  },
  {
   "cell_type": "markdown",
   "metadata": {},
   "source": [
    "1. Durchschnitt von\n",
    "    - allen Labels\n",
    "    - answer\n",
    "    - evasive answer\n",
    "    - nach Gruppe\n",
    "2. Visualisierungen\n",
    "    - despine (?) nutzen"
   ]
  },
  {
   "cell_type": "markdown",
   "metadata": {},
   "source": [
    "### Deskriptive Auswertung Wahrscheinlichkeit der Labels korrekt zugeordnet zu werden"
   ]
  },
  {
   "cell_type": "code",
   "execution_count": null,
   "metadata": {},
   "outputs": [
    {
     "data": {
      "text/html": [
       "<div>\n",
       "<style scoped>\n",
       "    .dataframe tbody tr th:only-of-type {\n",
       "        vertical-align: middle;\n",
       "    }\n",
       "\n",
       "    .dataframe tbody tr th {\n",
       "        vertical-align: top;\n",
       "    }\n",
       "\n",
       "    .dataframe thead tr th {\n",
       "        text-align: left;\n",
       "    }\n",
       "\n",
       "    .dataframe thead tr:last-of-type th {\n",
       "        text-align: right;\n",
       "    }\n",
       "</style>\n",
       "<table border=\"1\" class=\"dataframe\">\n",
       "  <thead>\n",
       "    <tr>\n",
       "      <th></th>\n",
       "      <th colspan=\"3\" halign=\"left\">probability</th>\n",
       "    </tr>\n",
       "    <tr>\n",
       "      <th></th>\n",
       "      <th>mean</th>\n",
       "      <th>median</th>\n",
       "      <th>std</th>\n",
       "    </tr>\n",
       "    <tr>\n",
       "      <th>label</th>\n",
       "      <th></th>\n",
       "      <th></th>\n",
       "      <th></th>\n",
       "    </tr>\n",
       "  </thead>\n",
       "  <tbody>\n",
       "    <tr>\n",
       "      <th>answer</th>\n",
       "      <td>0.682314</td>\n",
       "      <td>0.687535</td>\n",
       "      <td>0.077785</td>\n",
       "    </tr>\n",
       "    <tr>\n",
       "      <th>evasive_answer</th>\n",
       "      <td>0.699639</td>\n",
       "      <td>0.660384</td>\n",
       "      <td>0.155366</td>\n",
       "    </tr>\n",
       "  </tbody>\n",
       "</table>\n",
       "</div>"
      ],
      "text/plain": [
       "               probability                    \n",
       "                      mean    median       std\n",
       "label                                         \n",
       "answer            0.682314  0.687535  0.077785\n",
       "evasive_answer    0.699639  0.660384  0.155366"
      ]
     },
     "execution_count": 29,
     "metadata": {},
     "output_type": "execute_result"
    }
   ],
   "source": [
    "# mean, median and std of the labels probability to be correct\n",
    "df_labels = data.groupby(\"label\")\n",
    "df_labels.agg({\"probability\" : [\"mean\", \"median\", \"std\"]})"
   ]
  },
  {
   "cell_type": "markdown",
   "metadata": {},
   "source": [
    "### Verteilung der Labels"
   ]
  },
  {
   "cell_type": "code",
   "execution_count": null,
   "metadata": {},
   "outputs": [
    {
     "data": {
      "text/plain": [
       "Text(0.5, 1.0, \"Häufigkeit der Labels 'answer' und 'evasive answer'\")"
      ]
     },
     "execution_count": 35,
     "metadata": {},
     "output_type": "execute_result"
    },
    {
     "data": {
      "image/png": "[encoded data removed]",
      "text/plain": [
       "<Figure size 640x480 with 1 Axes>"
      ]
     },
     "metadata": {},
     "output_type": "display_data"
    }
   ],
   "source": [
    "# create plot\n",
    "sns.set_theme()\n",
    "ax = sns.countplot(\n",
    "    data=data,\n",
    "    x=\"label\"\n",
    ")\n",
    "\n",
    "# add value-label over bar\n",
    "for i in ax.containers:\n",
    "    ax.bar_label(i)\n",
    "\n",
    "# add text to axis\n",
    "plt.xlabel(\"Label\")\n",
    "plt.ylabel(\"Häufigkeit\")\n",
    "plt.title(\"Häufigkeit der Labels 'answer' und 'evasive answer'\")\n"
   ]
  },
  {
   "cell_type": "code",
   "execution_count": null,
   "metadata": {},
   "outputs": [],
   "source": []
  }
 ],
 "metadata": {
  "kernelspec": {
   "display_name": "Python 3",
   "language": "python",
   "name": "python3"
  },
  "language_info": {
   "codemirror_mode": {
    "name": "ipython",
    "version": 3
   },
   "file_extension": ".py",
   "mimetype": "text/x-python",
   "name": "python",
   "nbconvert_exporter": "python",
   "pygments_lexer": "ipython3",
   "version": "3.12.3"
  }
 },
 "nbformat": 4,
 "nbformat_minor": 2
}
