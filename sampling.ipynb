{
 "cells": [
  {
   "cell_type": "markdown",
   "metadata": {},
   "source": [
    "# Sampling the data\n",
    "This first step is to annotate the data. To get a representative sample I use stratified sampling. "
   ]
  },
  {
   "cell_type": "code",
   "execution_count": 1,
   "metadata": {},
   "outputs": [],
   "source": [
    "# import libraries\n",
    "import pandas as pd\n",
    "from sklearn.model_selection import StratifiedShuffleSplit"
   ]
  },
  {
   "cell_type": "code",
   "execution_count": 3,
   "metadata": {},
   "outputs": [],
   "source": [
    "# load data\n",
    "data_df = pd.read_csv(\"./data/abgeordnetenwatch_data_long.csv\", sep = \";\")"
   ]
  },
  {
   "cell_type": "markdown",
   "metadata": {},
   "source": [
    "In this step I create an additional column which shows the possible combiniations from the categories party, gender, topic, parliament. The politician of a certain party or gender might be more or less inclined to answer a question. It might also be possible that certain topics of questions have a higher chance of being or not being answered. Therefore I want to have representative sample. From the newly created column as basis a sample will be drawn."
   ]
  },
  {
   "cell_type": "code",
   "execution_count": 4,
   "metadata": {},
   "outputs": [],
   "source": [
    "# create new column\n",
    "data_df[\"stratify_column\"] = data_df[[\"party\", \"gender\", \"topic\"]].apply(lambda x: \"_\".join(x.astype(str)), axis=1)"
   ]
  },
  {
   "cell_type": "markdown",
   "metadata": {},
   "source": [
    "This code chunk remove parties with less than 5 questions to be able to draw a proper random sample."
   ]
  },
  {
   "cell_type": "code",
   "execution_count": 5,
   "metadata": {},
   "outputs": [],
   "source": [
    "counted_values = data_df[\"stratify_column\"].value_counts()\n",
    "\n",
    "data_df = data_df[data_df[\"stratify_column\"].map(counted_values) >= 5]"
   ]
  },
  {
   "cell_type": "code",
   "execution_count": 7,
   "metadata": {},
   "outputs": [],
   "source": [
    "# draw sample\n",
    "split = StratifiedShuffleSplit(n_splits = 1, test_size = 0.0075, random_state = 42)\n",
    "for train_index, test_index in split.split(data_df, data_df[\"stratify_column\"]):\n",
    "    sample = data_df.iloc[test_index]"
   ]
  },
  {
   "cell_type": "markdown",
   "metadata": {},
   "source": [
    "To simplify the encoding of the answers certain columns will be rearranged."
   ]
  },
  {
   "cell_type": "code",
   "execution_count": 14,
   "metadata": {},
   "outputs": [],
   "source": [
    "sample = sample[[\"party\", \"politician_id\", \"first_name\", \"last_name\", \"gender\", \"year_of_birth\", \"residence\", \"question_date\", \"question_id\", \"parliament\", \"topic\", \"stratify_column\", \"question_text\", \"question_teaser\", \"answer\"]]"
   ]
  },
  {
   "cell_type": "markdown",
   "metadata": {},
   "source": [
    "The next step will export the sample as csv."
   ]
  },
  {
   "cell_type": "code",
   "execution_count": 15,
   "metadata": {},
   "outputs": [],
   "source": [
    "sample.to_csv(\"./data/stratified_sample.csv\", index=False)"
   ]
  }
 ],
 "metadata": {
  "kernelspec": {
   "display_name": "Python 3",
   "language": "python",
   "name": "python3"
  },
  "language_info": {
   "codemirror_mode": {
    "name": "ipython",
    "version": 3
   },
   "file_extension": ".py",
   "mimetype": "text/x-python",
   "name": "python",
   "nbconvert_exporter": "python",
   "pygments_lexer": "ipython3",
   "version": "3.12.3"
  }
 },
 "nbformat": 4,
 "nbformat_minor": 2
}
